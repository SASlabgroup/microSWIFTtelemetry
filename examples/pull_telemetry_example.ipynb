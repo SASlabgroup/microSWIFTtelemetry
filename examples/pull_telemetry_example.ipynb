{
 "cells": [
  {
   "cell_type": "markdown",
   "metadata": {},
   "source": [
    "# pull_telemetry_example.ipynb\n",
    "This notebook provides a tutorial for use of the Python `microSWIFTtelemetry` package.\n",
    "\n",
    "Jake Davis (davisjr@uw.edu)\\\n",
    "Last updated: Dec 4, 2022"
   ]
  },
  {
   "cell_type": "markdown",
   "metadata": {},
   "source": [
    "## Contents\n",
    "\n",
    "`microSWIFTtelemetry` contains a collection of python functions for accessing data from the UW-APL SWIFT server:\n",
    "\n",
    "http://swiftserver.apl.washington.edu/ (base URL)\\\n",
    "http://faculty.washington.edu/jmt3rd/SWIFTdata/DynamicDataLinks.html (HTML page)\n",
    "\n",
    "The primary functions are contained in `pull_telemetry.py`. These include:\n",
    "\n",
    "`pull_telemetry_as_var()` -- return request as a variable in memory\\\n",
    "`pull_telemetry_as_zip()` -- return request as a .zip file\\\n",
    "`pull_telemetry_as_json()` -- return request as JSON-formatted text\\\n",
    "`pull_telemetry_as_kml()` -- return a .kml file of GPS positions\n",
    "\n",
    "Please see the doc strings in `pull_telemetry.py` for a full description of these functions and their arguments.\n",
    "\n",
    "This file also contains the helper function `create_request()` which is not intended for use outside of the primary functions above.  The modules `read_sbd.py` and `compile_sbd.py` contain additional helper functions for unpacking data (in the form of Short Burst Data files) from the server."
   ]
  },
  {
   "cell_type": "markdown",
   "metadata": {},
   "source": [
    "## Installation:\n",
    "The latest release of `microSWIFTtelemetry` can be installed from PyPI: \n",
    "\n",
    "``` bash\n",
    "$ pip install microSWIFTtelemetry\n",
    "```"
   ]
  },
  {
   "cell_type": "markdown",
   "metadata": {},
   "source": [
    "## Examples:"
   ]
  },
  {
   "cell_type": "markdown",
   "metadata": {},
   "source": [
    "### Specifying microSWIFT ID and date range:\n",
    "\n",
    "All of the primary telemetry functions use the microSWIFT ID and a date range as base arguments. "
   ]
  },
  {
   "cell_type": "markdown",
   "metadata": {},
   "source": [
    "The ID should be defined as a string corresponding to the 3-digit microSWIFT name (including leading zeros). e.g. microSWIFT019:"
   ]
  },
  {
   "cell_type": "code",
   "execution_count": null,
   "metadata": {},
   "outputs": [],
   "source": [
    "buoy_id = '019'"
   ]
  },
  {
   "cell_type": "markdown",
   "metadata": {},
   "source": [
    "To query a list of IDs, current best practice us to create a list of IDs and loop over it. This makes it easier to handle the output, particularly when it is returned as a variable in memory."
   ]
  },
  {
   "cell_type": "code",
   "execution_count": null,
   "metadata": {},
   "outputs": [],
   "source": [
    "buoy_ids = ['019', '034', '057', '061']"
   ]
  },
  {
   "cell_type": "markdown",
   "metadata": {},
   "source": [
    "The date range over which to query the server is defined using datetime objects:"
   ]
  },
  {
   "cell_type": "code",
   "execution_count": null,
   "metadata": {},
   "outputs": [],
   "source": [
    "from datetime import datetime # import the datetime class from the datetime module\n",
    "\n",
    "start = datetime(2022,9,26,0,0,0)\n",
    "end = datetime(2022,9,29,0,0,0)"
   ]
  },
  {
   "cell_type": "markdown",
   "metadata": {},
   "source": [
    "If the `end` date is left empty for any of the pull telemetry functions, it will default to `datetime.utcnow()`."
   ]
  },
  {
   "cell_type": "markdown",
   "metadata": {},
   "source": [
    "### Pull telemetry as a variable for a single buoy\n",
    "\n",
    "The following examples demonstrate how to query the SWIFT server for microSWIFT data over a date range and \n",
    "return it as Python variable using `pull_telemetry_as_var()`. NOTE: the `.zip` file of short burst data (SBD) messages returned by the server is *handled in memory* and therefore is not saved to the local machine as a file. Use `pull_telemetry_as_zip()` for this purpose. \n",
    "\n",
    "If no data exists over the specified date range, an empty variable will be returned."
   ]
  },
  {
   "cell_type": "markdown",
   "metadata": {},
   "source": [
    "As a Python `dict`:"
   ]
  },
  {
   "cell_type": "code",
   "execution_count": null,
   "metadata": {},
   "outputs": [],
   "source": [
    "from microSWIFTtelemetry import pull_telemetry_as_var\n",
    "\n",
    "SWIFT_dict = pull_telemetry_as_var(buoy_id=buoy_id,\n",
    "                                   start_date=start,\n",
    "                                   end_date=end,\n",
    "                                   var_type='dict')\n",
    "\n",
    "print(SWIFT_dict.keys()) # e.g. SWIFT_dict['datetime']\n",
    "print(len(SWIFT_dict['datetime'])) # print number of entries"
   ]
  },
  {
   "cell_type": "markdown",
   "metadata": {},
   "source": [
    "Leaving the `end_date` argument empty will return any available data from `start_date` to the present time in UTC (though data may not be available up to the present time)"
   ]
  },
  {
   "cell_type": "code",
   "execution_count": null,
   "metadata": {},
   "outputs": [],
   "source": [
    "from microSWIFTtelemetry import pull_telemetry_as_var\n",
    "\n",
    "SWIFT_dict = pull_telemetry_as_var(buoy_id=buoy_id,\n",
    "                                   start_date=start,\n",
    "                                   var_type='dict')\n",
    "\n",
    "print(SWIFT_dict.keys()) # e.g. SWIFT_dict['datetime']\n",
    "print(len(SWIFT_dict['datetime'])) # print number of entries"
   ]
  },
  {
   "cell_type": "markdown",
   "metadata": {},
   "source": [
    "As a `pandas.DataFrame`:"
   ]
  },
  {
   "cell_type": "code",
   "execution_count": null,
   "metadata": {},
   "outputs": [],
   "source": [
    "from microSWIFTtelemetry import pull_telemetry_as_var\n",
    "\n",
    "SWIFT_df = pull_telemetry_as_var(buoy_id=buoy_id,\n",
    "                                 start_date=start,\n",
    "                                 end_date=end,\n",
    "                                 var_type='pandas')\n",
    "\n",
    "print(SWIFT_df.info())"
   ]
  },
  {
   "cell_type": "markdown",
   "metadata": {},
   "source": [
    "The microSWIFT DataFrame will have a `pandas.DatetimeIndex` that can be sliced using datetimes."
   ]
  },
  {
   "cell_type": "code",
   "execution_count": null,
   "metadata": {},
   "outputs": [],
   "source": [
    "from datetime import datetime, timezone\n",
    "\n",
    "t1 = datetime(2022,9,28, tzinfo=timezone.utc)\n",
    "t2 = datetime(2022,9,29, tzinfo=timezone.utc)\n",
    "\n",
    "print(SWIFT_df[t1:t2].info())"
   ]
  },
  {
   "cell_type": "markdown",
   "metadata": {},
   "source": [
    "In the future, other variable types (e.g. `xarray.Dataset`) will be supported."
   ]
  },
  {
   "cell_type": "markdown",
   "metadata": {},
   "source": [
    "### Pull telemetry as a variable for multiple buoys\n",
    "\n",
    "For multiple microSWIFTs, run `pull_telemetry_as_var()` in a loop and store the individual variables in an iterable. For example, query the server for the microSWIFTs in `buoy_ids` (defined above) and store the output as individual Pandas DataFrames in a dictionary:"
   ]
  },
  {
   "cell_type": "code",
   "execution_count": null,
   "metadata": {},
   "outputs": [],
   "source": [
    "from microSWIFTtelemetry import pull_telemetry_as_var\n",
    "\n",
    "microSWIFTs = dict() # initialize a dict to store individual DataFrames\n",
    "\n",
    "for buoy_id in buoy_ids:\n",
    "    microSWIFTs[buoy_id] = pull_telemetry_as_var(buoy_id=buoy_id,\n",
    "                                                 start_date=start,\n",
    "                                                 end_date=end,\n",
    "                                                 var_type='pandas')\n",
    "\n",
    "print(microSWIFTs.keys())"
   ]
  },
  {
   "cell_type": "markdown",
   "metadata": {},
   "source": [
    "The key-pair values will contain a DataFrame for each microSWIFT:"
   ]
  },
  {
   "cell_type": "code",
   "execution_count": null,
   "metadata": {},
   "outputs": [],
   "source": [
    "microSWIFTs['019'].head()"
   ]
  },
  {
   "cell_type": "markdown",
   "metadata": {},
   "source": [
    "### Pull telemetry as a zip file:\n",
    "\n",
    "Query the SWIFT server for microSWIFT data over a specified date range and download a `.zip` file of individual short burst data (SBD) messages."
   ]
  },
  {
   "cell_type": "code",
   "execution_count": null,
   "metadata": {},
   "outputs": [],
   "source": [
    "from microSWIFTtelemetry import pull_telemetry_as_zip\n",
    "\n",
    "pull_telemetry_as_zip(buoy_id=buoy_id,\n",
    "                      start_date=start,\n",
    "                      end_date=end)"
   ]
  },
  {
   "cell_type": "markdown",
   "metadata": {},
   "source": [
    "The `.zip` file will be saved in your current directory with the microSWIFTs name, e.g. `microSWIFT019.zip`. If data exists, it the unzipped folder will contain the `.sbd` files."
   ]
  },
  {
   "cell_type": "markdown",
   "metadata": {},
   "source": [
    "For multiple microSWIFTs:"
   ]
  },
  {
   "cell_type": "code",
   "execution_count": null,
   "metadata": {},
   "outputs": [],
   "source": [
    "from microSWIFTtelemetry import pull_telemetry_as_zip\n",
    "\n",
    "for buoy_id in buoy_ids:\n",
    "    pull_telemetry_as_zip(buoy_id=buoy_id,\n",
    "                          start_date=start,\n",
    "                          end_date=end)"
   ]
  },
  {
   "cell_type": "markdown",
   "metadata": {},
   "source": [
    "### Pull telemetry as JSON text:\n",
    "\n",
    "Query the SWIFT server and return a variable containing JSON-formatted text."
   ]
  },
  {
   "cell_type": "code",
   "execution_count": null,
   "metadata": {},
   "outputs": [],
   "source": [
    "from microSWIFTtelemetry import pull_telemetry_as_json\n",
    "\n",
    "SWIFT_json = pull_telemetry_as_json(buoy_id='019',\n",
    "                                    start_date=start,\n",
    "                                    end_date=end)\n",
    "\n",
    "print(SWIFT_json)"
   ]
  },
  {
   "cell_type": "markdown",
   "metadata": {},
   "source": [
    "This variable can then be handled using the `json` package:"
   ]
  },
  {
   "cell_type": "code",
   "execution_count": null,
   "metadata": {},
   "outputs": [],
   "source": [
    "import json\n",
    "\n",
    "with open('SWIFT.json', 'w') as f:\n",
    "    json.dump(SWIFT_json, f)"
   ]
  },
  {
   "cell_type": "markdown",
   "metadata": {},
   "source": [
    "### Pull telemetry as a KML file\n",
    "\n",
    "Query the SWIFT server for microSWIFT data over a specified date range and download a `.kml` file containing the buoy's GPS coordinates.  "
   ]
  },
  {
   "cell_type": "code",
   "execution_count": null,
   "metadata": {},
   "outputs": [],
   "source": [
    "from microSWIFTtelemetry import pull_telemetry_as_kml\n",
    "\n",
    "pull_telemetry_as_kml(buoy_id=buoy_id,\n",
    "                      start_date=start,\n",
    "                      end_date=end)"
   ]
  },
  {
   "cell_type": "markdown",
   "metadata": {},
   "source": [
    "The `.kml` file will be saved in your current directory with the microSWIFTs name and the corresponding date range in ISO 8601 format (in UTC), e.g. `microSWIFT019_{y-m-dTH:M:S}_to_{y-m-dTH:M:S}-.kml`."
   ]
  },
  {
   "cell_type": "markdown",
   "metadata": {},
   "source": [
    "For multiple microSWIFTs:"
   ]
  },
  {
   "cell_type": "code",
   "execution_count": null,
   "metadata": {},
   "outputs": [],
   "source": [
    "from microSWIFTtelemetry import pull_telemetry_as_kml\n",
    "\n",
    "for buoy_id in buoy_ids:\n",
    "    pull_telemetry_as_kml(buoy_id=buoy_id,\n",
    "                          start_date=start,\n",
    "                          end_date=end)"
   ]
  },
  {
   "cell_type": "markdown",
   "metadata": {},
   "source": [
    "### Complete examples:"
   ]
  },
  {
   "cell_type": "markdown",
   "metadata": {},
   "source": [
    "Pull telemetry from microSWIFT057 during Hurricane Ian and store it in memory as a Python dictionary. Extract the time and significant wave height as variables. Since the microSWIFTs were configured to report two wave estimates during this deployment, IMU-based (volt == 0) and GPS-based (volt == 1), filter for the GPS-based estimates and plot the result."
   ]
  },
  {
   "cell_type": "code",
   "execution_count": null,
   "metadata": {},
   "outputs": [],
   "source": [
    "import matplotlib.pyplot as plt\n",
    "import numpy as np\n",
    "from microSWIFTtelemetry import pull_telemetry_as_var\n",
    "from datetime import datetime \n",
    "\n",
    "buoy_id = '057'\n",
    "start = datetime(2022,9,26,0,0,0)\n",
    "end = datetime(2022,10,1,0,0,0)\n",
    "\n",
    "SWIFT_dict = pull_telemetry_as_var(buoy_id=buoy_id,\n",
    "                                   start_date=start,\n",
    "                                   end_date=end,\n",
    "                                   var_type='dict')\n",
    "\n",
    "t = np.array(SWIFT_dict['datetime'])\n",
    "Hs = np.array(SWIFT_dict['Hs'])\n",
    "volt_flag = np.array(SWIFT_dict['volt'])\n",
    "\n",
    "\n",
    "fig,ax = plt.subplots(1,1)\n",
    "ax.scatter(t[volt_flag == 1], Hs[volt_flag == 1], label = 'GPS estimate')\n",
    "ax.set_ylabel('Significant Wave Height (m)')\n",
    "plt.xticks(rotation=30)\n",
    "ax.legend()"
   ]
  },
  {
   "cell_type": "markdown",
   "metadata": {},
   "source": [
    "Do the same as above, but using a more versatile Pandas DataFrame. "
   ]
  },
  {
   "cell_type": "code",
   "execution_count": null,
   "metadata": {},
   "outputs": [],
   "source": [
    "import matplotlib.pyplot as plt\n",
    "import numpy as np\n",
    "from microSWIFTtelemetry import pull_telemetry_as_var\n",
    "from datetime import datetime \n",
    "\n",
    "buoy_id = '057'\n",
    "start = datetime(2022,9,26,0,0,0)\n",
    "end = datetime(2022,10,1,0,0,0)\n",
    "\n",
    "SWIFT_df = pull_telemetry_as_var(buoy_id=buoy_id,\n",
    "                                 start_date=start,\n",
    "                                 end_date=end,\n",
    "                                 var_type='pandas')\n",
    "\n",
    "SWIFT_GPS = SWIFT_df[SWIFT_df['volt'] == 1]\n",
    "\n",
    "fig,ax = plt.subplots(1,1)\n",
    "ax.scatter(SWIFT_GPS.index, SWIFT_GPS['Hs'], label = 'GPS estimate')\n",
    "ax.set_ylabel('Significant Wave Height (m)')\n",
    "plt.xticks(rotation=30)\n",
    "ax.legend()"
   ]
  }
 ],
 "metadata": {
  "kernelspec": {
   "display_name": "Python 3.9.13 ('microSWIFTtelemetry_python3-9')",
   "language": "python",
   "name": "python3"
  },
  "language_info": {
   "codemirror_mode": {
    "name": "ipython",
    "version": 3
   },
   "file_extension": ".py",
   "mimetype": "text/x-python",
   "name": "python",
   "nbconvert_exporter": "python",
   "pygments_lexer": "ipython3",
   "version": "3.9.13"
  },
  "orig_nbformat": 4,
  "vscode": {
   "interpreter": {
    "hash": "98440043203a85f10ccc7c3bec7087660cc6e79aa53a37fbe586b070f1342e51"
   }
  }
 },
 "nbformat": 4,
 "nbformat_minor": 2
}
