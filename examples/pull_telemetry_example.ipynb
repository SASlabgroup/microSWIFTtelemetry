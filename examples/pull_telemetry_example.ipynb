{
 "cells": [
  {
   "cell_type": "markdown",
   "metadata": {},
   "source": [
    "# pull_telemetry_example.ipynb\n",
    "This notebook provides a tutorial for use of the Python `microSWIFTtelemetry` package.\n",
    "\n",
    "Jake Davis (davisjr@uw.edu)\\\n",
    "Last updated: Nov 6, 2022"
   ]
  },
  {
   "cell_type": "markdown",
   "metadata": {},
   "source": [
    "## Contents\n",
    "\n",
    "`microSWIFTtelemetry` contains a collection of python functions for accessing data from the UW-APL SWIFT server:\n",
    "\n",
    "http://swiftserver.apl.washington.edu/ (base URL)\\\n",
    "http://faculty.washington.edu/jmt3rd/SWIFTdata/DynamicDataLinks.html (HTML page)\n",
    "\n",
    "The primary functions are contained in `pull_telemetry.py`. These include:\n",
    "\n",
    "`pull_telemetry_as_var()` -- return request as a variable in memory\\\n",
    "`pull_telemetry_as_zip()` -- return request as a .zip file\\\n",
    "`pull_telemetry_as_json()` -- return request as JSON-formatted text\\\n",
    "`pull_telemetry_as_kml()` -- return a .kml file of GPS positions\n",
    "\n",
    "Please see the doc strings in `pull_telemetry.py` for a full description of these functions and their arguments.\n",
    "\n",
    "This file also contains the helper function `create_request()` which is not intended for use outside of the primary functions above.  The modules `read_SBD.py` and `compile_SBD.py` contain additional helper functions for unpacking data (in the form of Short Burst Data files) from the server."
   ]
  },
  {
   "cell_type": "markdown",
   "metadata": {},
   "source": [
    "## Installation:\n",
    "The latest release of `microSWIFTtelemetry` can be installed from PyPI: \n",
    "\n",
    "``` bash\n",
    "$ pip install microSWIFTtelemetry\n",
    "```"
   ]
  },
  {
   "cell_type": "markdown",
   "metadata": {},
   "source": [
    "## Examples:"
   ]
  },
  {
   "cell_type": "markdown",
   "metadata": {},
   "source": [
    "### Specifying microSWIFT ID and date range:\n",
    "\n",
    "All of the primary telemetry functions use the microSWIFT ID and a date range as base arguments. "
   ]
  },
  {
   "cell_type": "markdown",
   "metadata": {},
   "source": [
    "The ID should be defined as a string corresponding to the 3-digit microSWIFT name (including leading zeros). e.g. microSWIFT019:"
   ]
  },
  {
   "cell_type": "code",
   "execution_count": 7,
   "metadata": {},
   "outputs": [],
   "source": [
    "buoyID = '019'"
   ]
  },
  {
   "cell_type": "markdown",
   "metadata": {},
   "source": [
    "To query a list of IDs, current best practice us to create a list of IDs and loop over it. This makes it easier to handle the output, particularly when it is returned as a variable in memory."
   ]
  },
  {
   "cell_type": "code",
   "execution_count": 8,
   "metadata": {},
   "outputs": [],
   "source": [
    "buoyIDs = ['019', '034', '057', '061']"
   ]
  },
  {
   "cell_type": "markdown",
   "metadata": {},
   "source": [
    "The date range over which to query the server is defined using datetime objects:"
   ]
  },
  {
   "cell_type": "code",
   "execution_count": 9,
   "metadata": {},
   "outputs": [],
   "source": [
    "from datetime import datetime # import the datetime class from the datetime module\n",
    "\n",
    "start = datetime(2022,9,26,0,0,0)\n",
    "end = datetime(2022,9,29,0,0,0)"
   ]
  },
  {
   "cell_type": "markdown",
   "metadata": {},
   "source": [
    "If the `end` date is left empty for any of the pull telemetry functions, it will default to `datetime.utcnow()`."
   ]
  },
  {
   "cell_type": "markdown",
   "metadata": {},
   "source": [
    "### Pull telemetry as a variable for a single buoy\n",
    "\n",
    "The following examples demonstrate how to query the SWIFT server for microSWIFT data over a date range and \n",
    "return it as Python variable using `pull_telemetry_as_var()`. NOTE: the `.zip` file of short burst data (SBD) messages returned by the server is *handled in memory* and therefore is not saved to the local machine as a file. Use `pull_telemetry_as_zip()` for this purpose. \n",
    "\n",
    "If no data exists over the specified date range, an empty variable will be returned."
   ]
  },
  {
   "cell_type": "markdown",
   "metadata": {},
   "source": [
    "As a Python `dict`:"
   ]
  },
  {
   "cell_type": "code",
   "execution_count": 10,
   "metadata": {},
   "outputs": [
    {
     "name": "stdout",
     "output_type": "stream",
     "text": [
      "dict_keys(['vMean', 'f', 'zMean', 'volt', 'datetime', 'Dp', 'E', 'check', 'b1', 'Tp', 'b2', 'Hs', 'a2', 'salinity', 'lat', 'sensorType', 'lon', 'temp', 'a1', 'uMean'])\n",
      "98\n"
     ]
    }
   ],
   "source": [
    "from microSWIFTtelemetry import pull_telemetry_as_var\n",
    "\n",
    "SWIFT_dict = pull_telemetry_as_var(buoyID = buoyID, startDate = start, endDate= end, varType = 'dict')\n",
    "\n",
    "print(SWIFT_dict.keys()) # e.g. SWIFT_dict['datetime']\n",
    "print(len(SWIFT_dict['datetime'])) # print number of entries"
   ]
  },
  {
   "cell_type": "markdown",
   "metadata": {},
   "source": [
    "Leaving the `endDate` argument empty will return any available data from `startTime` to the present time in UTC (though data may not be available up to the present time)"
   ]
  },
  {
   "cell_type": "code",
   "execution_count": 11,
   "metadata": {},
   "outputs": [
    {
     "name": "stdout",
     "output_type": "stream",
     "text": [
      "dict_keys(['vMean', 'f', 'zMean', 'volt', 'datetime', 'Dp', 'E', 'check', 'b1', 'Tp', 'b2', 'Hs', 'a2', 'salinity', 'lat', 'sensorType', 'lon', 'temp', 'a1', 'uMean'])\n",
      "217\n"
     ]
    }
   ],
   "source": [
    "from microSWIFTtelemetry import pull_telemetry_as_var\n",
    "\n",
    "SWIFT_dict = pull_telemetry_as_var(buoyID = buoyID, startDate = start, varType = 'dict')\n",
    "\n",
    "print(SWIFT_dict.keys()) # e.g. SWIFT_dict['datetime']\n",
    "print(len(SWIFT_dict['datetime'])) # print number of entries"
   ]
  },
  {
   "cell_type": "markdown",
   "metadata": {},
   "source": [
    "As a `pandas.DataFrame`:"
   ]
  },
  {
   "cell_type": "code",
   "execution_count": 12,
   "metadata": {},
   "outputs": [
    {
     "name": "stdout",
     "output_type": "stream",
     "text": [
      "<class 'pandas.core.frame.DataFrame'>\n",
      "DatetimeIndex: 98 entries, 2022-09-26 16:40:32+00:00 to 2022-09-28 23:40:48+00:00\n",
      "Data columns (total 19 columns):\n",
      " #   Column      Non-Null Count  Dtype  \n",
      "---  ------      --------------  -----  \n",
      " 0   Hs          98 non-null     float64\n",
      " 1   Tp          98 non-null     float64\n",
      " 2   Dp          98 non-null     float64\n",
      " 3   E           98 non-null     object \n",
      " 4   f           98 non-null     object \n",
      " 5   a1          98 non-null     object \n",
      " 6   b1          98 non-null     object \n",
      " 7   a2          98 non-null     object \n",
      " 8   b2          98 non-null     object \n",
      " 9   check       98 non-null     object \n",
      " 10  uMean       0 non-null      object \n",
      " 11  vMean       0 non-null      object \n",
      " 12  zMean       0 non-null      object \n",
      " 13  lat         98 non-null     float64\n",
      " 14  lon         98 non-null     float64\n",
      " 15  temp        98 non-null     float64\n",
      " 16  salinity    98 non-null     float64\n",
      " 17  volt        98 non-null     float64\n",
      " 18  sensorType  98 non-null     int64  \n",
      "dtypes: float64(8), int64(1), object(10)\n",
      "memory usage: 15.3+ KB\n",
      "None\n"
     ]
    }
   ],
   "source": [
    "from microSWIFTtelemetry import pull_telemetry_as_var\n",
    "\n",
    "SWIFT_df = pull_telemetry_as_var(buoyID = buoyID, startDate = start, endDate= end, varType = 'pandas')\n",
    "print(SWIFT_df.info())"
   ]
  },
  {
   "cell_type": "markdown",
   "metadata": {},
   "source": [
    "The microSWIFT DataFrame will have a `pandas.DatetimeIndex` that can be sliced using datetimes."
   ]
  },
  {
   "cell_type": "code",
   "execution_count": 13,
   "metadata": {},
   "outputs": [
    {
     "name": "stdout",
     "output_type": "stream",
     "text": [
      "<class 'pandas.core.frame.DataFrame'>\n",
      "DatetimeIndex: 38 entries, 2022-09-28 01:42:24+00:00 to 2022-09-28 23:40:48+00:00\n",
      "Data columns (total 19 columns):\n",
      " #   Column      Non-Null Count  Dtype  \n",
      "---  ------      --------------  -----  \n",
      " 0   Hs          38 non-null     float64\n",
      " 1   Tp          38 non-null     float64\n",
      " 2   Dp          38 non-null     float64\n",
      " 3   E           38 non-null     object \n",
      " 4   f           38 non-null     object \n",
      " 5   a1          38 non-null     object \n",
      " 6   b1          38 non-null     object \n",
      " 7   a2          38 non-null     object \n",
      " 8   b2          38 non-null     object \n",
      " 9   check       38 non-null     object \n",
      " 10  uMean       0 non-null      object \n",
      " 11  vMean       0 non-null      object \n",
      " 12  zMean       0 non-null      object \n",
      " 13  lat         38 non-null     float64\n",
      " 14  lon         38 non-null     float64\n",
      " 15  temp        38 non-null     float64\n",
      " 16  salinity    38 non-null     float64\n",
      " 17  volt        38 non-null     float64\n",
      " 18  sensorType  38 non-null     int64  \n",
      "dtypes: float64(8), int64(1), object(10)\n",
      "memory usage: 5.9+ KB\n",
      "None\n"
     ]
    }
   ],
   "source": [
    "from datetime import datetime, timezone\n",
    "\n",
    "t1 = datetime(2022,9,28, tzinfo=timezone.utc)\n",
    "t2 = datetime(2022,9,29, tzinfo=timezone.utc)\n",
    "\n",
    "print(SWIFT_df[t1:t2].info())"
   ]
  },
  {
   "cell_type": "markdown",
   "metadata": {},
   "source": [
    "In the future, other variable types (e.g. `xarray.Dataset`) will be supported."
   ]
  },
  {
   "cell_type": "markdown",
   "metadata": {},
   "source": [
    "### Pull telemetry as a variable for multiple buoys\n",
    "\n",
    "For multiple microSWIFTs, run `pull_telemetry_as_var()` in a loop and store the individual variables in an iterable. For example, query the server for the microSWIFTs in `buoyIDs` (defined above) and store the output as individual Pandas DataFrames in a dictionary:"
   ]
  },
  {
   "cell_type": "code",
   "execution_count": 14,
   "metadata": {},
   "outputs": [
    {
     "name": "stdout",
     "output_type": "stream",
     "text": [
      "dict_keys(['019', '034', '057', '061'])\n"
     ]
    }
   ],
   "source": [
    "from microSWIFTtelemetry import pull_telemetry_as_var\n",
    "\n",
    "microSWIFTs = dict() # initialize a dict to store individual DataFrames\n",
    "\n",
    "for buoyID in buoyIDs:\n",
    "    microSWIFTs[buoyID] = pull_telemetry_as_var(buoyID = buoyID, startDate = start, endDate= end, varType = 'pandas')\n",
    "\n",
    "print(microSWIFTs.keys())"
   ]
  },
  {
   "cell_type": "markdown",
   "metadata": {},
   "source": [
    "The key-pair values will contain a DataFrame for each microSWIFT:"
   ]
  },
  {
   "cell_type": "code",
   "execution_count": 15,
   "metadata": {},
   "outputs": [
    {
     "data": {
      "text/html": [
       "<div>\n",
       "<style scoped>\n",
       "    .dataframe tbody tr th:only-of-type {\n",
       "        vertical-align: middle;\n",
       "    }\n",
       "\n",
       "    .dataframe tbody tr th {\n",
       "        vertical-align: top;\n",
       "    }\n",
       "\n",
       "    .dataframe thead th {\n",
       "        text-align: right;\n",
       "    }\n",
       "</style>\n",
       "<table border=\"1\" class=\"dataframe\">\n",
       "  <thead>\n",
       "    <tr style=\"text-align: right;\">\n",
       "      <th></th>\n",
       "      <th>Hs</th>\n",
       "      <th>Tp</th>\n",
       "      <th>Dp</th>\n",
       "      <th>E</th>\n",
       "      <th>f</th>\n",
       "      <th>a1</th>\n",
       "      <th>b1</th>\n",
       "      <th>a2</th>\n",
       "      <th>b2</th>\n",
       "      <th>check</th>\n",
       "      <th>uMean</th>\n",
       "      <th>vMean</th>\n",
       "      <th>zMean</th>\n",
       "      <th>lat</th>\n",
       "      <th>lon</th>\n",
       "      <th>temp</th>\n",
       "      <th>salinity</th>\n",
       "      <th>volt</th>\n",
       "      <th>sensorType</th>\n",
       "    </tr>\n",
       "    <tr>\n",
       "      <th>datetime</th>\n",
       "      <th></th>\n",
       "      <th></th>\n",
       "      <th></th>\n",
       "      <th></th>\n",
       "      <th></th>\n",
       "      <th></th>\n",
       "      <th></th>\n",
       "      <th></th>\n",
       "      <th></th>\n",
       "      <th></th>\n",
       "      <th></th>\n",
       "      <th></th>\n",
       "      <th></th>\n",
       "      <th></th>\n",
       "      <th></th>\n",
       "      <th></th>\n",
       "      <th></th>\n",
       "      <th></th>\n",
       "      <th></th>\n",
       "    </tr>\n",
       "  </thead>\n",
       "  <tbody>\n",
       "    <tr>\n",
       "      <th>2022-09-26 16:40:32+00:00</th>\n",
       "      <td>999.000000</td>\n",
       "      <td>999.000000</td>\n",
       "      <td>999.000</td>\n",
       "      <td>[999.0, 999.0, 999.0, 999.0, 999.0, 999.0, 999...</td>\n",
       "      <td>[999.0, 999.0, 999.0, 999.0, 999.0, 999.0, 999...</td>\n",
       "      <td>[0.6, 0.6, 0.6, 0.6, 0.6, 0.6, 0.6, 0.6, 0.6, ...</td>\n",
       "      <td>[0.6, 0.6, 0.6, 0.6, 0.6, 0.6, 0.6, 0.6, 0.6, ...</td>\n",
       "      <td>[0.6, 0.6, 0.6, 0.6, 0.6, 0.6, 0.6, 0.6, 0.6, ...</td>\n",
       "      <td>[0.6, 0.6, 0.6, 0.6, 0.6, 0.6, 0.6, 0.6, 0.6, ...</td>\n",
       "      <td>[25.5, 25.5, 25.5, 25.5, 25.5, 25.5, 25.5, 25....</td>\n",
       "      <td>None</td>\n",
       "      <td>None</td>\n",
       "      <td>None</td>\n",
       "      <td>999.000000</td>\n",
       "      <td>999.000000</td>\n",
       "      <td>0.0</td>\n",
       "      <td>0.0</td>\n",
       "      <td>0.0</td>\n",
       "      <td>52</td>\n",
       "    </tr>\n",
       "    <tr>\n",
       "      <th>2022-09-26 18:42:08+00:00</th>\n",
       "      <td>2.111328</td>\n",
       "      <td>4.097656</td>\n",
       "      <td>350.500</td>\n",
       "      <td>[0.0362548828125, 0.47607421875, 1.4423828125,...</td>\n",
       "      <td>[0.009765625, 0.021484375, 0.033203125, 0.0449...</td>\n",
       "      <td>[0.03, -0.01, 0.01, 0.2, 0.18, 0.13, 0.11, 0.2...</td>\n",
       "      <td>[0.09, 0.1, 0.02, 0.18, 0.05, 0.03, 0.0, 0.03,...</td>\n",
       "      <td>[-0.43, 0.14, -0.11, -0.1, -0.33, -0.04, -0.2,...</td>\n",
       "      <td>[-0.24, -0.32, -0.04, 0.04, -0.12, -0.13, 0.17...</td>\n",
       "      <td>[3.4, 22.9, 24.3, 25.5, 25.5, 25.5, 21.4, 16.5...</td>\n",
       "      <td>None</td>\n",
       "      <td>None</td>\n",
       "      <td>None</td>\n",
       "      <td>26.196615</td>\n",
       "      <td>-83.811127</td>\n",
       "      <td>0.0</td>\n",
       "      <td>0.0</td>\n",
       "      <td>0.0</td>\n",
       "      <td>52</td>\n",
       "    </tr>\n",
       "    <tr>\n",
       "      <th>2022-09-26 18:42:08+00:00</th>\n",
       "      <td>0.672363</td>\n",
       "      <td>4.097656</td>\n",
       "      <td>13.125</td>\n",
       "      <td>[0.0, 0.0, 0.0, 0.0, 0.237060546875, 0.3435058...</td>\n",
       "      <td>[0.009765625, 0.021484375, 0.033203125, 0.0449...</td>\n",
       "      <td>[-0.05, 0.18, -0.1, 0.05, 0.03, 0.02, -0.03, -...</td>\n",
       "      <td>[-0.03, -0.06, -0.01, -0.17, 0.07, -0.03, -0.0...</td>\n",
       "      <td>[0.28, 0.06, -0.14, -0.1, -0.31, -0.03, -0.19,...</td>\n",
       "      <td>[-0.11, -0.24, 0.02, 0.02, -0.13, -0.15, 0.19,...</td>\n",
       "      <td>[0.0, 0.1, 0.1, 0.1, 0.2, 0.1, 0.2, 0.2, 0.1, ...</td>\n",
       "      <td>None</td>\n",
       "      <td>None</td>\n",
       "      <td>None</td>\n",
       "      <td>26.196615</td>\n",
       "      <td>-83.811127</td>\n",
       "      <td>0.0</td>\n",
       "      <td>0.0</td>\n",
       "      <td>1.0</td>\n",
       "      <td>52</td>\n",
       "    </tr>\n",
       "    <tr>\n",
       "      <th>2022-09-26 19:41:52+00:00</th>\n",
       "      <td>0.796387</td>\n",
       "      <td>2.679688</td>\n",
       "      <td>91.625</td>\n",
       "      <td>[0.0, 0.0, 0.0, 0.0, 0.411865234375, 0.5893554...</td>\n",
       "      <td>[0.009765625, 0.021484375, 0.033203125, 0.0449...</td>\n",
       "      <td>[-0.17, -0.06, -0.01, 0.01, -0.01, -0.01, -0.0...</td>\n",
       "      <td>[-0.1, -0.05, -0.07, 0.08, -0.08, -0.21, -0.12...</td>\n",
       "      <td>[0.29, 0.03, 0.13, 0.02, 0.07, -0.06, -0.01, -...</td>\n",
       "      <td>[0.04, -0.17, 0.01, -0.13, -0.17, -0.16, -0.33...</td>\n",
       "      <td>[0.0, 0.1, 0.1, 0.1, 0.1, 0.1, 0.2, 0.2, 0.1, ...</td>\n",
       "      <td>None</td>\n",
       "      <td>None</td>\n",
       "      <td>None</td>\n",
       "      <td>26.194782</td>\n",
       "      <td>-83.815460</td>\n",
       "      <td>0.0</td>\n",
       "      <td>0.0</td>\n",
       "      <td>1.0</td>\n",
       "      <td>52</td>\n",
       "    </tr>\n",
       "    <tr>\n",
       "      <th>2022-09-26 19:41:52+00:00</th>\n",
       "      <td>2.824219</td>\n",
       "      <td>2.679688</td>\n",
       "      <td>78.750</td>\n",
       "      <td>[0.07769775390625, 0.53564453125, 2.822265625,...</td>\n",
       "      <td>[0.009765625, 0.021484375, 0.033203125, 0.0449...</td>\n",
       "      <td>[0.09, 0.05, 0.1, 0.1, 0.03, 0.21, 0.14, 0.24,...</td>\n",
       "      <td>[-0.04, -0.2, -0.07, -0.06, 0.0, -0.07, -0.15,...</td>\n",
       "      <td>[-0.05, -0.06, 0.17, 0.03, 0.07, -0.06, -0.03,...</td>\n",
       "      <td>[-0.06, -0.2, 0.08, -0.15, -0.2, -0.16, -0.36,...</td>\n",
       "      <td>[4.9, 12.8, 25.5, 25.5, 25.5, 25.5, 25.5, 25.0...</td>\n",
       "      <td>None</td>\n",
       "      <td>None</td>\n",
       "      <td>None</td>\n",
       "      <td>26.194782</td>\n",
       "      <td>-83.815460</td>\n",
       "      <td>0.0</td>\n",
       "      <td>0.0</td>\n",
       "      <td>0.0</td>\n",
       "      <td>52</td>\n",
       "    </tr>\n",
       "  </tbody>\n",
       "</table>\n",
       "</div>"
      ],
      "text/plain": [
       "                                   Hs          Tp       Dp  \\\n",
       "datetime                                                     \n",
       "2022-09-26 16:40:32+00:00  999.000000  999.000000  999.000   \n",
       "2022-09-26 18:42:08+00:00    2.111328    4.097656  350.500   \n",
       "2022-09-26 18:42:08+00:00    0.672363    4.097656   13.125   \n",
       "2022-09-26 19:41:52+00:00    0.796387    2.679688   91.625   \n",
       "2022-09-26 19:41:52+00:00    2.824219    2.679688   78.750   \n",
       "\n",
       "                                                                           E  \\\n",
       "datetime                                                                       \n",
       "2022-09-26 16:40:32+00:00  [999.0, 999.0, 999.0, 999.0, 999.0, 999.0, 999...   \n",
       "2022-09-26 18:42:08+00:00  [0.0362548828125, 0.47607421875, 1.4423828125,...   \n",
       "2022-09-26 18:42:08+00:00  [0.0, 0.0, 0.0, 0.0, 0.237060546875, 0.3435058...   \n",
       "2022-09-26 19:41:52+00:00  [0.0, 0.0, 0.0, 0.0, 0.411865234375, 0.5893554...   \n",
       "2022-09-26 19:41:52+00:00  [0.07769775390625, 0.53564453125, 2.822265625,...   \n",
       "\n",
       "                                                                           f  \\\n",
       "datetime                                                                       \n",
       "2022-09-26 16:40:32+00:00  [999.0, 999.0, 999.0, 999.0, 999.0, 999.0, 999...   \n",
       "2022-09-26 18:42:08+00:00  [0.009765625, 0.021484375, 0.033203125, 0.0449...   \n",
       "2022-09-26 18:42:08+00:00  [0.009765625, 0.021484375, 0.033203125, 0.0449...   \n",
       "2022-09-26 19:41:52+00:00  [0.009765625, 0.021484375, 0.033203125, 0.0449...   \n",
       "2022-09-26 19:41:52+00:00  [0.009765625, 0.021484375, 0.033203125, 0.0449...   \n",
       "\n",
       "                                                                          a1  \\\n",
       "datetime                                                                       \n",
       "2022-09-26 16:40:32+00:00  [0.6, 0.6, 0.6, 0.6, 0.6, 0.6, 0.6, 0.6, 0.6, ...   \n",
       "2022-09-26 18:42:08+00:00  [0.03, -0.01, 0.01, 0.2, 0.18, 0.13, 0.11, 0.2...   \n",
       "2022-09-26 18:42:08+00:00  [-0.05, 0.18, -0.1, 0.05, 0.03, 0.02, -0.03, -...   \n",
       "2022-09-26 19:41:52+00:00  [-0.17, -0.06, -0.01, 0.01, -0.01, -0.01, -0.0...   \n",
       "2022-09-26 19:41:52+00:00  [0.09, 0.05, 0.1, 0.1, 0.03, 0.21, 0.14, 0.24,...   \n",
       "\n",
       "                                                                          b1  \\\n",
       "datetime                                                                       \n",
       "2022-09-26 16:40:32+00:00  [0.6, 0.6, 0.6, 0.6, 0.6, 0.6, 0.6, 0.6, 0.6, ...   \n",
       "2022-09-26 18:42:08+00:00  [0.09, 0.1, 0.02, 0.18, 0.05, 0.03, 0.0, 0.03,...   \n",
       "2022-09-26 18:42:08+00:00  [-0.03, -0.06, -0.01, -0.17, 0.07, -0.03, -0.0...   \n",
       "2022-09-26 19:41:52+00:00  [-0.1, -0.05, -0.07, 0.08, -0.08, -0.21, -0.12...   \n",
       "2022-09-26 19:41:52+00:00  [-0.04, -0.2, -0.07, -0.06, 0.0, -0.07, -0.15,...   \n",
       "\n",
       "                                                                          a2  \\\n",
       "datetime                                                                       \n",
       "2022-09-26 16:40:32+00:00  [0.6, 0.6, 0.6, 0.6, 0.6, 0.6, 0.6, 0.6, 0.6, ...   \n",
       "2022-09-26 18:42:08+00:00  [-0.43, 0.14, -0.11, -0.1, -0.33, -0.04, -0.2,...   \n",
       "2022-09-26 18:42:08+00:00  [0.28, 0.06, -0.14, -0.1, -0.31, -0.03, -0.19,...   \n",
       "2022-09-26 19:41:52+00:00  [0.29, 0.03, 0.13, 0.02, 0.07, -0.06, -0.01, -...   \n",
       "2022-09-26 19:41:52+00:00  [-0.05, -0.06, 0.17, 0.03, 0.07, -0.06, -0.03,...   \n",
       "\n",
       "                                                                          b2  \\\n",
       "datetime                                                                       \n",
       "2022-09-26 16:40:32+00:00  [0.6, 0.6, 0.6, 0.6, 0.6, 0.6, 0.6, 0.6, 0.6, ...   \n",
       "2022-09-26 18:42:08+00:00  [-0.24, -0.32, -0.04, 0.04, -0.12, -0.13, 0.17...   \n",
       "2022-09-26 18:42:08+00:00  [-0.11, -0.24, 0.02, 0.02, -0.13, -0.15, 0.19,...   \n",
       "2022-09-26 19:41:52+00:00  [0.04, -0.17, 0.01, -0.13, -0.17, -0.16, -0.33...   \n",
       "2022-09-26 19:41:52+00:00  [-0.06, -0.2, 0.08, -0.15, -0.2, -0.16, -0.36,...   \n",
       "\n",
       "                                                                       check  \\\n",
       "datetime                                                                       \n",
       "2022-09-26 16:40:32+00:00  [25.5, 25.5, 25.5, 25.5, 25.5, 25.5, 25.5, 25....   \n",
       "2022-09-26 18:42:08+00:00  [3.4, 22.9, 24.3, 25.5, 25.5, 25.5, 21.4, 16.5...   \n",
       "2022-09-26 18:42:08+00:00  [0.0, 0.1, 0.1, 0.1, 0.2, 0.1, 0.2, 0.2, 0.1, ...   \n",
       "2022-09-26 19:41:52+00:00  [0.0, 0.1, 0.1, 0.1, 0.1, 0.1, 0.2, 0.2, 0.1, ...   \n",
       "2022-09-26 19:41:52+00:00  [4.9, 12.8, 25.5, 25.5, 25.5, 25.5, 25.5, 25.0...   \n",
       "\n",
       "                          uMean vMean zMean         lat         lon  temp  \\\n",
       "datetime                                                                    \n",
       "2022-09-26 16:40:32+00:00  None  None  None  999.000000  999.000000   0.0   \n",
       "2022-09-26 18:42:08+00:00  None  None  None   26.196615  -83.811127   0.0   \n",
       "2022-09-26 18:42:08+00:00  None  None  None   26.196615  -83.811127   0.0   \n",
       "2022-09-26 19:41:52+00:00  None  None  None   26.194782  -83.815460   0.0   \n",
       "2022-09-26 19:41:52+00:00  None  None  None   26.194782  -83.815460   0.0   \n",
       "\n",
       "                           salinity  volt  sensorType  \n",
       "datetime                                               \n",
       "2022-09-26 16:40:32+00:00       0.0   0.0          52  \n",
       "2022-09-26 18:42:08+00:00       0.0   0.0          52  \n",
       "2022-09-26 18:42:08+00:00       0.0   1.0          52  \n",
       "2022-09-26 19:41:52+00:00       0.0   1.0          52  \n",
       "2022-09-26 19:41:52+00:00       0.0   0.0          52  "
      ]
     },
     "execution_count": 15,
     "metadata": {},
     "output_type": "execute_result"
    }
   ],
   "source": [
    "microSWIFTs['019'].head()"
   ]
  },
  {
   "cell_type": "markdown",
   "metadata": {},
   "source": [
    "### Pull telemetry as a zip file:\n",
    "\n",
    "Query the SWIFT server for microSWIFT data over a specified date range and download a `.zip` file of individual short burst data (SBD) messages."
   ]
  },
  {
   "cell_type": "code",
   "execution_count": 16,
   "metadata": {},
   "outputs": [],
   "source": [
    "from microSWIFTtelemetry import pull_telemetry_as_zip\n",
    "\n",
    "pull_telemetry_as_zip(buoyID = buoyID, startDate = start, endDate= end)"
   ]
  },
  {
   "cell_type": "markdown",
   "metadata": {},
   "source": [
    "The `.zip` file will be saved in your current directory with the microSWIFTs name, e.g. `microSWIFT019.zip`. If data exists, it the unzipped folder will contain the `.sbd` files."
   ]
  },
  {
   "cell_type": "markdown",
   "metadata": {},
   "source": [
    "For multiple microSWIFTs:"
   ]
  },
  {
   "cell_type": "code",
   "execution_count": 17,
   "metadata": {},
   "outputs": [],
   "source": [
    "from microSWIFTtelemetry import pull_telemetry_as_zip\n",
    "\n",
    "for buoyID in buoyIDs:\n",
    "    pull_telemetry_as_zip(buoyID = buoyID, startDate = start, endDate= end)"
   ]
  },
  {
   "cell_type": "markdown",
   "metadata": {},
   "source": [
    "### Pull telemetry as JSON text:\n",
    "\n",
    "Query the SWIFT server and return a variable containing JSON-formatted text."
   ]
  },
  {
   "cell_type": "code",
   "execution_count": 18,
   "metadata": {},
   "outputs": [
    {
     "name": "stdout",
     "output_type": "stream",
     "text": [
      "{'error_msg': [], 'success': True, 'buoys': [{'data': [{'wind_speed': 0, 'timestamp': '2022-09-26T18:42:20Z', 'lon': -83.8111267089844, 'wave_height': 2.111328125, 'voltage': 0.0, 'lat': 26.1966152191162}, {'wind_speed': 0, 'timestamp': '2022-09-26T18:45:53Z', 'lon': -83.8111267089844, 'wave_height': 0.67236328125, 'voltage': 1.0, 'lat': 26.1966152191162}, {'wind_speed': 0, 'timestamp': '2022-09-26T18:46:37Z', 'lon': 999.0, 'wave_height': 999.0, 'voltage': 0.0, 'lat': 999.0}, {'wind_speed': 0, 'timestamp': '2022-09-26T19:42:48Z', 'lon': -83.8154602050781, 'wave_height': 2.82421875, 'voltage': 0.0, 'lat': 26.1947822570801}, {'wind_speed': 0, 'timestamp': '2022-09-26T19:57:24Z', 'lon': -83.8154602050781, 'wave_height': 0.79638671875, 'voltage': 1.0, 'lat': 26.1947822570801}, {'wind_speed': 0, 'timestamp': '2022-09-26T20:42:36Z', 'lon': -83.8204193115234, 'wave_height': 2.53125, 'voltage': 0.0, 'lat': 26.1954097747803}, {'wind_speed': 0, 'timestamp': '2022-09-26T20:43:08Z', 'lon': -83.8204193115234, 'wave_height': 0.97265625, 'voltage': 1.0, 'lat': 26.1954097747803}, {'wind_speed': 0, 'timestamp': '2022-09-26T21:45:24Z', 'lon': -83.8242797851562, 'wave_height': 2.431640625, 'voltage': 0.0, 'lat': 26.1965198516846}, {'wind_speed': 0, 'timestamp': '2022-09-26T21:50:54Z', 'lon': -83.8242797851562, 'wave_height': 0.91650390625, 'voltage': 1.0, 'lat': 26.1965198516846}, {'wind_speed': 0, 'timestamp': '2022-09-26T22:44:11Z', 'lon': -83.8270034790039, 'wave_height': 1.9931640625, 'voltage': 0.0, 'lat': 26.1963901519775}, {'wind_speed': 0, 'timestamp': '2022-09-26T22:44:42Z', 'lon': -83.8270034790039, 'wave_height': 0.7724609375, 'voltage': 1.0, 'lat': 26.1963901519775}, {'wind_speed': 0, 'timestamp': '2022-09-26T23:43:16Z', 'lon': -83.8281021118164, 'wave_height': 1.84375, 'voltage': 0.0, 'lat': 26.1959037780762}, {'wind_speed': 0, 'timestamp': '2022-09-26T23:44:14Z', 'lon': -83.8281021118164, 'wave_height': 0.7470703125, 'voltage': 1.0, 'lat': 26.1959037780762}, {'wind_speed': 0, 'timestamp': '2022-09-27T00:42:18Z', 'lon': -83.8282012939453, 'wave_height': 2.203125, 'voltage': 0.0, 'lat': 26.195743560791}, {'wind_speed': 0, 'timestamp': '2022-09-27T00:43:21Z', 'lon': -83.8282012939453, 'wave_height': 0.89599609375, 'voltage': 1.0, 'lat': 26.195743560791}, {'wind_speed': 0, 'timestamp': '2022-09-27T01:44:32Z', 'lon': -83.8266983032227, 'wave_height': 2.2578125, 'voltage': 0.0, 'lat': 26.1952743530273}, {'wind_speed': 0, 'timestamp': '2022-09-27T01:46:04Z', 'lon': -83.8266983032227, 'wave_height': 0.80859375, 'voltage': 1.0, 'lat': 26.1952743530273}, {'wind_speed': 0, 'timestamp': '2022-09-27T02:42:24Z', 'lon': -83.8240585327148, 'wave_height': 2.298828125, 'voltage': 0.0, 'lat': 26.1937122344971}, {'wind_speed': 0, 'timestamp': '2022-09-27T02:42:59Z', 'lon': -83.8240585327148, 'wave_height': 0.72998046875, 'voltage': 1.0, 'lat': 26.1937122344971}, {'wind_speed': 0, 'timestamp': '2022-09-27T03:43:17Z', 'lon': -83.8223342895508, 'wave_height': 2.30859375, 'voltage': 0.0, 'lat': 26.1921997070312}, {'wind_speed': 0, 'timestamp': '2022-09-27T03:48:21Z', 'lon': -83.8223342895508, 'wave_height': 0.74169921875, 'voltage': 1.0, 'lat': 26.1921997070312}, {'wind_speed': 0, 'timestamp': '2022-09-27T04:43:20Z', 'lon': -83.822151184082, 'wave_height': 2.556640625, 'voltage': 0.0, 'lat': 26.1896114349365}, {'wind_speed': 0, 'timestamp': '2022-09-27T04:43:57Z', 'lon': -83.822151184082, 'wave_height': 0.90185546875, 'voltage': 1.0, 'lat': 26.1896114349365}, {'wind_speed': 0, 'timestamp': '2022-09-27T05:45:22Z', 'lon': -83.8233184814453, 'wave_height': 2.517578125, 'voltage': 0.0, 'lat': 26.1867961883545}, {'wind_speed': 0, 'timestamp': '2022-09-27T05:47:06Z', 'lon': -83.8233184814453, 'wave_height': 0.9521484375, 'voltage': 1.0, 'lat': 26.1867961883545}, {'wind_speed': 0, 'timestamp': '2022-09-27T06:42:19Z', 'lon': -83.8262786865234, 'wave_height': 2.650390625, 'voltage': 0.0, 'lat': 26.1833419799805}, {'wind_speed': 0, 'timestamp': '2022-09-27T06:43:00Z', 'lon': -83.8262786865234, 'wave_height': 0.93994140625, 'voltage': 1.0, 'lat': 26.1833419799805}, {'wind_speed': 0, 'timestamp': '2022-09-27T07:52:00Z', 'lon': -83.8318328857422, 'wave_height': 2.501953125, 'voltage': 0.0, 'lat': 26.1798820495605}, {'wind_speed': 0, 'timestamp': '2022-09-27T07:57:09Z', 'lon': -83.8318328857422, 'wave_height': 1.0185546875, 'voltage': 1.0, 'lat': 26.1798820495605}, {'wind_speed': 0, 'timestamp': '2022-09-27T08:42:24Z', 'lon': -83.8384857177734, 'wave_height': 2.5234375, 'voltage': 0.0, 'lat': 26.1776523590088}, {'wind_speed': 0, 'timestamp': '2022-09-27T08:43:16Z', 'lon': -83.8384857177734, 'wave_height': 1.0400390625, 'voltage': 1.0, 'lat': 26.1776523590088}, {'wind_speed': 0, 'timestamp': '2022-09-27T09:50:23Z', 'lon': -83.8449859619141, 'wave_height': 2.564453125, 'voltage': 0.0, 'lat': 26.1771812438965}, {'wind_speed': 0, 'timestamp': '2022-09-27T09:52:33Z', 'lon': -83.8449859619141, 'wave_height': 1.2060546875, 'voltage': 1.0, 'lat': 26.1771812438965}, {'wind_speed': 0, 'timestamp': '2022-09-27T10:45:45Z', 'lon': -83.8509521484375, 'wave_height': 2.71875, 'voltage': 0.0, 'lat': 26.1769847869873}, {'wind_speed': 0, 'timestamp': '2022-09-27T10:46:57Z', 'lon': -83.8509521484375, 'wave_height': 1.4052734375, 'voltage': 1.0, 'lat': 26.1769847869873}, {'wind_speed': 0, 'timestamp': '2022-09-27T12:43:45Z', 'lon': -83.8589553833008, 'wave_height': 2.947265625, 'voltage': 0.0, 'lat': 26.1782112121582}, {'wind_speed': 0, 'timestamp': '2022-09-27T12:44:48Z', 'lon': -83.8589553833008, 'wave_height': 1.365234375, 'voltage': 1.0, 'lat': 26.1782112121582}, {'wind_speed': 0, 'timestamp': '2022-09-27T12:45:30Z', 'lon': -83.8559341430664, 'wave_height': 1.37890625, 'voltage': 1.0, 'lat': 26.1774768829346}, {'wind_speed': 0, 'timestamp': '2022-09-27T13:51:17Z', 'lon': -83.8612213134766, 'wave_height': 2.86328125, 'voltage': 0.0, 'lat': 26.1775054931641}, {'wind_speed': 0, 'timestamp': '2022-09-27T14:43:25Z', 'lon': -83.8635864257812, 'wave_height': 3.025390625, 'voltage': 0.0, 'lat': 26.1765213012695}, {'wind_speed': 0, 'timestamp': '2022-09-27T14:44:24Z', 'lon': -83.8635864257812, 'wave_height': 1.9326171875, 'voltage': 1.0, 'lat': 26.1765213012695}, {'wind_speed': 0, 'timestamp': '2022-09-27T14:44:55Z', 'lon': -83.8612213134766, 'wave_height': 1.5546875, 'voltage': 1.0, 'lat': 26.1775054931641}, {'wind_speed': 0, 'timestamp': '2022-09-27T15:51:46Z', 'lon': -83.8680038452148, 'wave_height': 3.1328125, 'voltage': 0.0, 'lat': 26.1741962432861}, {'wind_speed': 0, 'timestamp': '2022-09-27T15:52:48Z', 'lon': -83.8680038452148, 'wave_height': 1.94140625, 'voltage': 1.0, 'lat': 26.1741962432861}, {'wind_speed': 0, 'timestamp': '2022-09-27T16:48:09Z', 'lon': -83.877082824707, 'wave_height': 3.33203125, 'voltage': 0.0, 'lat': 26.1696891784668}, {'wind_speed': 0, 'timestamp': '2022-09-27T16:48:59Z', 'lon': -83.877082824707, 'wave_height': 2.267578125, 'voltage': 1.0, 'lat': 26.1696891784668}, {'wind_speed': 0, 'timestamp': '2022-09-27T17:54:36Z', 'lon': -83.8925933837891, 'wave_height': 3.1328125, 'voltage': 0.0, 'lat': 26.1640167236328}, {'wind_speed': 0, 'timestamp': '2022-09-27T17:57:29Z', 'lon': -83.8925933837891, 'wave_height': 2.232421875, 'voltage': 1.0, 'lat': 26.1640167236328}, {'wind_speed': 0, 'timestamp': '2022-09-27T18:43:03Z', 'lon': -83.9125366210938, 'wave_height': 3.3984375, 'voltage': 0.0, 'lat': 26.1581115722656}, {'wind_speed': 0, 'timestamp': '2022-09-27T18:43:36Z', 'lon': -83.9125366210938, 'wave_height': 2.458984375, 'voltage': 1.0, 'lat': 26.1581115722656}, {'wind_speed': 0, 'timestamp': '2022-09-27T19:58:19Z', 'lon': -83.9355621337891, 'wave_height': 3.64453125, 'voltage': 0.0, 'lat': 26.1516170501709}, {'wind_speed': 0, 'timestamp': '2022-09-27T20:43:05Z', 'lon': -83.9613723754883, 'wave_height': 3.998046875, 'voltage': 0.0, 'lat': 26.1454391479492}, {'wind_speed': 0, 'timestamp': '2022-09-27T20:46:34Z', 'lon': -83.9613723754883, 'wave_height': 3.4296875, 'voltage': 1.0, 'lat': 26.1454391479492}, {'wind_speed': 0, 'timestamp': '2022-09-27T20:48:01Z', 'lon': -83.9355621337891, 'wave_height': 2.716796875, 'voltage': 1.0, 'lat': 26.1516170501709}, {'wind_speed': 0, 'timestamp': '2022-09-27T21:50:41Z', 'lon': -83.9857788085938, 'wave_height': 4.01953125, 'voltage': 0.0, 'lat': 26.1415500640869}, {'wind_speed': 0, 'timestamp': '2022-09-27T22:43:11Z', 'lon': -84.0117034912109, 'wave_height': 4.1796875, 'voltage': 0.0, 'lat': 26.1393127441406}, {'wind_speed': 0, 'timestamp': '2022-09-27T22:43:59Z', 'lon': -84.0117034912109, 'wave_height': 3.716796875, 'voltage': 1.0, 'lat': 26.1393127441406}, {'wind_speed': 0, 'timestamp': '2022-09-27T22:46:11Z', 'lon': -83.9857788085938, 'wave_height': 3.513671875, 'voltage': 1.0, 'lat': 26.1415500640869}, {'wind_speed': 0, 'timestamp': '2022-09-27T23:44:46Z', 'lon': -84.0369033813477, 'wave_height': 4.35546875, 'voltage': 0.0, 'lat': 26.1388034820557}, {'wind_speed': 0, 'timestamp': '2022-09-27T23:46:14Z', 'lon': -84.0369033813477, 'wave_height': 4.015625, 'voltage': 1.0, 'lat': 26.1388034820557}, {'wind_speed': 0, 'timestamp': '2022-09-28T01:50:32Z', 'lon': -84.0890502929688, 'wave_height': 4.36328125, 'voltage': 0.0, 'lat': 26.1364154815674}, {'wind_speed': 0, 'timestamp': '2022-09-28T01:59:05Z', 'lon': -84.0890502929688, 'wave_height': 3.646484375, 'voltage': 1.0, 'lat': 26.1364154815674}, {'wind_speed': 0, 'timestamp': '2022-09-28T02:47:16Z', 'lon': -84.1140823364258, 'wave_height': 7.125, 'voltage': 0.0, 'lat': 26.1340274810791}, {'wind_speed': 0, 'timestamp': '2022-09-28T03:53:41Z', 'lon': -84.1379165649414, 'wave_height': 4.2734375, 'voltage': 0.0, 'lat': 26.1330757141113}, {'wind_speed': 0, 'timestamp': '2022-09-28T04:48:53Z', 'lon': -84.1601104736328, 'wave_height': 5.265625, 'voltage': 0.0, 'lat': 26.1297435760498}, {'wind_speed': 0, 'timestamp': '2022-09-28T04:49:50Z', 'lon': -84.1601104736328, 'wave_height': 4.171875, 'voltage': 1.0, 'lat': 26.1297435760498}, {'wind_speed': 0, 'timestamp': '2022-09-28T05:50:52Z', 'lon': -84.185920715332, 'wave_height': 5.40625, 'voltage': 0.0, 'lat': 26.1249771118164}, {'wind_speed': 0, 'timestamp': '2022-09-28T06:47:29Z', 'lon': -84.2110366821289, 'wave_height': 5.484375, 'voltage': 0.0, 'lat': 26.1161975860596}, {'wind_speed': 0, 'timestamp': '2022-09-28T06:52:03Z', 'lon': -84.2110366821289, 'wave_height': 4.890625, 'voltage': 1.0, 'lat': 26.1161975860596}, {'wind_speed': 0, 'timestamp': '2022-09-28T07:44:11Z', 'lon': -84.2322998046875, 'wave_height': 5.7578125, 'voltage': 0.0, 'lat': 26.1048221588135}, {'wind_speed': 0, 'timestamp': '2022-09-28T07:50:56Z', 'lon': -84.2322998046875, 'wave_height': 5.12890625, 'voltage': 1.0, 'lat': 26.1048221588135}, {'wind_speed': 0, 'timestamp': '2022-09-28T08:49:48Z', 'lon': -84.250244140625, 'wave_height': 5.671875, 'voltage': 0.0, 'lat': 26.0922775268555}, {'wind_speed': 0, 'timestamp': '2022-09-28T08:55:13Z', 'lon': -84.250244140625, 'wave_height': 5.546875, 'voltage': 1.0, 'lat': 26.0922775268555}, {'wind_speed': 0, 'timestamp': '2022-09-28T10:42:37Z', 'lon': -84.2792129516602, 'wave_height': 6.05859375, 'voltage': 0.0, 'lat': 26.0651264190674}, {'wind_speed': 0, 'timestamp': '2022-09-28T10:44:03Z', 'lon': -84.2792129516602, 'wave_height': 6.2109375, 'voltage': 1.0, 'lat': 26.0651264190674}, {'wind_speed': 0, 'timestamp': '2022-09-28T10:51:45Z', 'lon': -84.2668228149414, 'wave_height': 5.8671875, 'voltage': 1.0, 'lat': 26.0792846679688}, {'wind_speed': 0, 'timestamp': '2022-09-28T12:53:45Z', 'lon': -84.2978210449219, 'wave_height': 6.13671875, 'voltage': 0.0, 'lat': 26.0342254638672}, {'wind_speed': 0, 'timestamp': '2022-09-28T12:54:58Z', 'lon': -84.2978210449219, 'wave_height': 6.91015625, 'voltage': 1.0, 'lat': 26.0342254638672}, {'wind_speed': 0, 'timestamp': '2022-09-28T14:46:43Z', 'lon': -84.3095169067383, 'wave_height': 5.93359375, 'voltage': 0.0, 'lat': 26.0001811981201}, {'wind_speed': 0, 'timestamp': '2022-09-28T14:54:55Z', 'lon': -84.3095169067383, 'wave_height': 7.125, 'voltage': 1.0, 'lat': 26.0001811981201}, {'wind_speed': 0, 'timestamp': '2022-09-28T14:56:08Z', 'lon': -84.3044967651367, 'wave_height': 6.47265625, 'voltage': 1.0, 'lat': 26.0172805786133}, {'wind_speed': 0, 'timestamp': '2022-09-28T15:48:11Z', 'lon': -84.3145446777344, 'wave_height': 5.87109375, 'voltage': 0.0, 'lat': 25.9847946166992}, {'wind_speed': 0, 'timestamp': '2022-09-28T15:57:50Z', 'lon': -84.3145446777344, 'wave_height': 7.3984375, 'voltage': 1.0, 'lat': 25.9847946166992}, {'wind_speed': 0, 'timestamp': '2022-09-28T16:42:43Z', 'lon': -84.3187484741211, 'wave_height': 5.37109375, 'voltage': 0.0, 'lat': 25.9707622528076}, {'wind_speed': 0, 'timestamp': '2022-09-28T16:49:32Z', 'lon': -84.3187484741211, 'wave_height': 6.8984375, 'voltage': 1.0, 'lat': 25.9707622528076}, {'wind_speed': 0, 'timestamp': '2022-09-28T17:51:26Z', 'lon': -84.3230667114258, 'wave_height': 5.76171875, 'voltage': 0.0, 'lat': 25.9574604034424}, {'wind_speed': 0, 'timestamp': '2022-09-28T17:52:58Z', 'lon': -84.3230667114258, 'wave_height': 6.8984375, 'voltage': 1.0, 'lat': 25.9574604034424}, {'wind_speed': 0, 'timestamp': '2022-09-28T18:43:04Z', 'lon': -84.3279037475586, 'wave_height': 5.63671875, 'voltage': 0.0, 'lat': 25.9470233917236}, {'wind_speed': 0, 'timestamp': '2022-09-28T18:45:19Z', 'lon': -84.3279037475586, 'wave_height': 7.42578125, 'voltage': 1.0, 'lat': 25.9470233917236}, {'wind_speed': 0, 'timestamp': '2022-09-28T19:54:17Z', 'lon': -84.3333740234375, 'wave_height': 5.8671875, 'voltage': 0.0, 'lat': 25.9374656677246}, {'wind_speed': 0, 'timestamp': '2022-09-28T19:55:12Z', 'lon': -84.3333740234375, 'wave_height': 6.28125, 'voltage': 1.0, 'lat': 25.9374656677246}, {'wind_speed': 0, 'timestamp': '2022-09-28T20:47:01Z', 'lon': -84.3401794433594, 'wave_height': 5.07421875, 'voltage': 0.0, 'lat': 25.9294109344482}, {'wind_speed': 0, 'timestamp': '2022-09-28T20:48:28Z', 'lon': -84.3401794433594, 'wave_height': 6.94921875, 'voltage': 1.0, 'lat': 25.9294109344482}, {'wind_speed': 0, 'timestamp': '2022-09-28T21:57:11Z', 'lon': -84.347038269043, 'wave_height': 5.03125, 'voltage': 0.0, 'lat': 25.9228439331055}, {'wind_speed': 0, 'timestamp': '2022-09-28T22:00:15Z', 'lon': -84.347038269043, 'wave_height': 5.79296875, 'voltage': 1.0, 'lat': 25.9228439331055}, {'wind_speed': 0, 'timestamp': '2022-09-28T22:43:23Z', 'lon': -84.3523864746094, 'wave_height': 5.140625, 'voltage': 0.0, 'lat': 25.9181823730469}, {'wind_speed': 0, 'timestamp': '2022-09-28T22:44:31Z', 'lon': -84.3523864746094, 'wave_height': 5.71875, 'voltage': 1.0, 'lat': 25.9181823730469}, {'wind_speed': 0, 'timestamp': '2022-09-28T23:49:10Z', 'lon': -84.3565673828125, 'wave_height': 5.21875, 'voltage': 0.0, 'lat': 25.9145431518555}], 'id': 300434064043430, 'name': 'microSWIFT 019'}]}\n"
     ]
    }
   ],
   "source": [
    "from microSWIFTtelemetry import pull_telemetry_as_json\n",
    "\n",
    "SWIFT_json = pull_telemetry_as_json(buoyID = '019', startDate = start, endDate= end)\n",
    "print(SWIFT_json)"
   ]
  },
  {
   "cell_type": "markdown",
   "metadata": {},
   "source": [
    "This variable can then be handled using the `json` package:"
   ]
  },
  {
   "cell_type": "code",
   "execution_count": 19,
   "metadata": {},
   "outputs": [],
   "source": [
    "import json\n",
    "\n",
    "with open('SWIFT.json', 'w') as f:\n",
    "    json.dump(SWIFT_json, f)"
   ]
  },
  {
   "cell_type": "markdown",
   "metadata": {},
   "source": [
    "### Pull telemetry as a KML file\n",
    "\n",
    "Query the SWIFT server for microSWIFT data over a specified date range and download a `.kml` file containing the buoy's GPS coordinates.  "
   ]
  },
  {
   "cell_type": "code",
   "execution_count": 20,
   "metadata": {},
   "outputs": [],
   "source": [
    "from microSWIFTtelemetry import pull_telemetry_as_kml\n",
    "\n",
    "pull_telemetry_as_kml(buoyID = buoyID, startDate = start, endDate= end)"
   ]
  },
  {
   "cell_type": "markdown",
   "metadata": {},
   "source": [
    "The `.kml` file will be saved in your current directory with the microSWIFTs name and the corresponding date range in ISO 8601 format (in UTC), e.g. `microSWIFT019_{y-m-dTH:M:S}_to_{y-m-dTH:M:S}-.kml`."
   ]
  },
  {
   "cell_type": "markdown",
   "metadata": {},
   "source": [
    "For multiple microSWIFTs:"
   ]
  },
  {
   "cell_type": "code",
   "execution_count": 21,
   "metadata": {},
   "outputs": [],
   "source": [
    "from microSWIFTtelemetry import pull_telemetry_as_kml\n",
    "for buoyID in buoyIDs:\n",
    "    pull_telemetry_as_kml(buoyID = buoyID, startDate = start, endDate= end)"
   ]
  },
  {
   "cell_type": "markdown",
   "metadata": {},
   "source": [
    "### Complete examples:"
   ]
  },
  {
   "cell_type": "markdown",
   "metadata": {},
   "source": [
    "Pull telemetry from microSWIFT057 during Hurricane Ian and store it in memory as a Python dictionary. Extract the time and significant wave height as variables. Since the microSWIFTs were configured to report two wave estimates during this deployment, IMU-based (volt == 0) and GPS-based (volt == 1), filter for the GPS-based estimates and plot the result."
   ]
  },
  {
   "cell_type": "code",
   "execution_count": 22,
   "metadata": {},
   "outputs": [
    {
     "data": {
      "text/plain": [
       "<matplotlib.legend.Legend at 0x136597c70>"
      ]
     },
     "execution_count": 22,
     "metadata": {},
     "output_type": "execute_result"
    },
    {
     "data": {
      "image/png": "[encoded data removed]",
      "text/plain": [
       "<Figure size 640x480 with 1 Axes>"
      ]
     },
     "metadata": {},
     "output_type": "display_data"
    }
   ],
   "source": [
    "import matplotlib.pyplot as plt\n",
    "import numpy as np\n",
    "from microSWIFTtelemetry import pull_telemetry_as_var\n",
    "from datetime import datetime \n",
    "\n",
    "buoyID = '057'\n",
    "start = datetime(2022,9,26,0,0,0)\n",
    "end = datetime(2022,10,1,0,0,0)\n",
    "\n",
    "SWIFT_dict = pull_telemetry_as_var(buoyID = buoyID, startDate = start, endDate= end, varType = 'dict')\n",
    "\n",
    "t = np.array(SWIFT_dict['datetime'])\n",
    "Hs = np.array(SWIFT_dict['Hs'])\n",
    "voltFlag = np.array(SWIFT_dict['volt'])\n",
    "\n",
    "\n",
    "fig,ax = plt.subplots(1,1)\n",
    "ax.scatter(t[voltFlag == 1], Hs[voltFlag == 1], label = 'GPS estimate')\n",
    "ax.set_ylabel('Significant Wave Height (m)')\n",
    "plt.xticks(rotation=30)\n",
    "ax.legend()"
   ]
  },
  {
   "cell_type": "markdown",
   "metadata": {},
   "source": [
    "Do the same as above, but using a more versatile Pandas DataFrame. "
   ]
  },
  {
   "cell_type": "code",
   "execution_count": 23,
   "metadata": {},
   "outputs": [
    {
     "data": {
      "text/plain": [
       "<matplotlib.legend.Legend at 0x1267283d0>"
      ]
     },
     "execution_count": 23,
     "metadata": {},
     "output_type": "execute_result"
    },
    {
     "data": {
      "image/png": "[encoded data removed]",
      "text/plain": [
       "<Figure size 640x480 with 1 Axes>"
      ]
     },
     "metadata": {},
     "output_type": "display_data"
    }
   ],
   "source": [
    "import matplotlib.pyplot as plt\n",
    "import numpy as np\n",
    "from microSWIFTtelemetry import pull_telemetry_as_var\n",
    "from datetime import datetime \n",
    "\n",
    "buoyID = '057'\n",
    "start = datetime(2022,9,26,0,0,0)\n",
    "end = datetime(2022,10,1,0,0,0)\n",
    "\n",
    "SWIFT_df = pull_telemetry_as_var(buoyID = buoyID, startDate = start, endDate= end, varType = 'pandas')\n",
    "\n",
    "SWIFT_GPS = SWIFT_df[SWIFT_df['volt'] == 1]\n",
    "\n",
    "fig,ax = plt.subplots(1,1)\n",
    "ax.scatter(SWIFT_GPS.index, SWIFT_GPS['Hs'], label = 'GPS estimate')\n",
    "ax.set_ylabel('Significant Wave Height (m)')\n",
    "plt.xticks(rotation=30)\n",
    "ax.legend()"
   ]
  }
 ],
 "metadata": {
  "kernelspec": {
   "display_name": "Python 3.9.13 ('microSWIFTtelemetry_python3-9')",
   "language": "python",
   "name": "python3"
  },
  "language_info": {
   "codemirror_mode": {
    "name": "ipython",
    "version": 3
   },
   "file_extension": ".py",
   "mimetype": "text/x-python",
   "name": "python",
   "nbconvert_exporter": "python",
   "pygments_lexer": "ipython3",
   "version": "3.9.13"
  },
  "orig_nbformat": 4,
  "vscode": {
   "interpreter": {
    "hash": "98440043203a85f10ccc7c3bec7087660cc6e79aa53a37fbe586b070f1342e51"
   }
  }
 },
 "nbformat": 4,
 "nbformat_minor": 2
}
